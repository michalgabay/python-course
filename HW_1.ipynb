{
 "cells": [
  {
   "cell_type": "code",
   "execution_count": 89,
   "metadata": {},
   "outputs": [
    {
     "name": "stdout",
     "output_type": "stream",
     "text": [
      "False\n",
      "b\n",
      "6\n"
     ]
    },
    {
     "data": {
      "text/plain": [
       "False"
      ]
     },
     "execution_count": 89,
     "metadata": {},
     "output_type": "execute_result"
    }
   ],
   "source": [
    "b = [2,2]\n",
    "a = sum(b)==2\n",
    "print(a)\n",
    "word = 'aabbcc'\n",
    "print(word[3])\n",
    "print(len(word))\n",
    "word[2]==word[3]==word[3]==5"
   ]
  },
  {
   "cell_type": "code",
   "execution_count": 94,
   "metadata": {},
   "outputs": [],
   "source": [
    "def trifeca(word):\n",
    "    \"\"\"\n",
    "    Checks whether word contains three consecutive double-letter pairs.\n",
    "    word: string\n",
    "    returns: bool\n",
    "    \"\"\"\n",
    "    l = len(word)\n",
    "    if l<6:\n",
    "        bool = False\n",
    "    else:\n",
    "        pair=[]\n",
    "        for i in range(l-1):\n",
    "            pair.append(int(word[i]==word[i+1]))\n",
    "        for i in range(l-5):\n",
    "            if pair[i]==pair[i+2]==pair[i+4]==1:\n",
    "                bool = True\n",
    "                break\n",
    "            else:\n",
    "                bool = False\n",
    "    return bool"
   ]
  },
  {
   "cell_type": "code",
   "execution_count": 95,
   "metadata": {
    "scrolled": false
   },
   "outputs": [
    {
     "name": "stdout",
     "output_type": "stream",
     "text": [
      "True\n",
      "True\n",
      "False\n",
      "True\n",
      "False\n",
      "False\n",
      "False\n"
     ]
    }
   ],
   "source": [
    "# Testing trifeca\n",
    "print(trifeca(word=('aabbcc')))\n",
    "print(trifeca(word=('abccddee0123')))\n",
    "print(trifeca('llkkbmm'))\n",
    "print(trifeca('aaaazz'))\n",
    "print(trifeca('bbcCdd'))\n",
    "print(trifeca(''))\n",
    "print(trifeca('lalala'))"
   ]
  },
  {
   "cell_type": "code",
   "execution_count": null,
   "metadata": {
    "collapsed": true
   },
   "outputs": [],
   "source": [
    "def compare_subjects_within_student(subj1_all_students,\n",
    "                                    subj2_all_students):\n",
    "    \"\"\"\n",
    "    Compare the two subjects with their students and print out the \"preferred\"\n",
    "    subject for each student. Single-subject students shouldn't be printed.\n",
    "\n",
    "    Choice for the data structure of the function's arguments is up to you.\n",
    "    \"\"\"\n",
    "    len1 = len(subj1_all_studentssubj1_all_students)\n",
    "    len2 = len(subj2_all_studentssubj1_all_students)\n",
    "    l1 = set(list(subj1_all_students.keys()))\n",
    "    l2 = set(list(subj2_all_students.keys()))\n",
    "    ljoined = l1.union(l2)\n",
    "    lenjoined = len(ljoined)\n",
    "    for i1 in rang(lenjoined):"
   ]
  },
  {
   "cell_type": "code",
   "execution_count": 121,
   "metadata": {},
   "outputs": [
    {
     "name": "stdout",
     "output_type": "stream",
     "text": [
      "5\n",
      "{'David', 'Hana', 'Joe', 'Sara', 'Ruth'}\n",
      "<class 'dict'>\n"
     ]
    }
   ],
   "source": [
    "subj1_all_students = {'David': (89,93),'Sara': (70,100),'Joe': (85),'Hana':(81,91)}\n",
    "subj2_all_students = {'Ruth': (95),'Sara': (),'Joe': (73,90),'Hana':(60,75)}\n",
    "l1 = set(list(subj1_all_students.keys()))\n",
    "l2 = set(list(subj2_all_students.keys()))\n",
    "#l1set = set(l1)\n",
    "#l2set = set(l2)\n",
    "ljoined = l1.union(l2)\n",
    "print(len(ljoined))\n",
    "\n",
    "print(ljoined)\n",
    "      #,subj2_all_students.keys()]))\n",
    "#joined_subs = set([subj1_all_students.keys,subj1_all_students.keys])\n",
    "print(type(subj1_all_students))\n",
    "#print(subj2_all_students)"
   ]
  },
  {
   "cell_type": "code",
   "execution_count": null,
   "metadata": {
    "collapsed": true
   },
   "outputs": [],
   "source": []
  }
 ],
 "metadata": {
  "kernelspec": {
   "display_name": "Python 3",
   "language": "python",
   "name": "python3"
  },
  "language_info": {
   "codemirror_mode": {
    "name": "ipython",
    "version": 3
   },
   "file_extension": ".py",
   "mimetype": "text/x-python",
   "name": "python",
   "nbconvert_exporter": "python",
   "pygments_lexer": "ipython3",
   "version": "3.6.2"
  }
 },
 "nbformat": 4,
 "nbformat_minor": 2
}
